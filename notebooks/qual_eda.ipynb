{
 "cells": [
  {
   "cell_type": "code",
   "execution_count": 104,
   "metadata": {},
   "outputs": [],
   "source": [
    "import pandas as pd \n",
    "import matplotlib.pyplot as plt \n",
    "import seaborn as sns \n",
    "\n",
    "# enable latex plotting \n",
    "plt.rc('text', usetex=True)\n",
    "plt.rc('font', family='serif')"
   ]
  },
  {
   "cell_type": "code",
   "execution_count": 105,
   "metadata": {},
   "outputs": [],
   "source": [
    "qual_results = pd.read_csv(\"../data/qual_results_aug19.csv\")"
   ]
  },
  {
   "cell_type": "code",
   "execution_count": 106,
   "metadata": {},
   "outputs": [
    {
     "data": {
      "text/plain": [
       "0                    Your name:\n",
       "1     {\"ImportId\":\"QID10_TEXT\"}\n",
       "2                        test 1\n",
       "3                      Dave Dey\n",
       "4                 Tauhid Tanjim\n",
       "5     Andres Felipe Arias-Russi\n",
       "6           Ethan Matthew Carty\n",
       "7                  Ruixiang Han\n",
       "8                 Tauhid Tanjim\n",
       "9              Amritansh Kwatra\n",
       "10                  Raymond Lin\n",
       "11                          NaN\n",
       "12                          NaN\n",
       "13                          NaN\n",
       "14                          NaN\n",
       "15                          NaN\n",
       "16                  Shannon Liu\n",
       "17               Hauke Sandhaus\n",
       "18          Ethan Matthew Carty\n",
       "19              Daniel Enriquez\n",
       "20               Tauhid Tanjim \n",
       "21                   Shuo Feng \n",
       "22                    Zhuoqi Xu\n",
       "23               Sophie Lanchez\n",
       "24                          NaN\n",
       "25                  Ritik Batra\n",
       "26                  Cathy zhang\n",
       "27           Ananya Devarakonda\n",
       "28                  Leihao Fang\n",
       "29                   Joy zhang \n",
       "30                          NaN\n",
       "31               Tan Gemicioglu\n",
       "Name: Q10, dtype: object"
      ]
     },
     "execution_count": 106,
     "metadata": {},
     "output_type": "execute_result"
    }
   ],
   "source": [
    "qual_results['Q10']"
   ]
  },
  {
   "cell_type": "code",
   "execution_count": 107,
   "metadata": {},
   "outputs": [
    {
     "data": {
      "text/plain": [
       "array(['2024-08-13 08:50:19', '2024-08-13 10:52:39', 'IP Address',\n",
       "       '*******', '100', '7340', 'True', '2024-08-13 10:52:41',\n",
       "       'R_1cc6VzKGWd6FwF3', '*******', '*******', '*******', '*******',\n",
       "       '*******', '*******', 'anonymous', 'EN', 'Kyon', '20240813',\n",
       "       'F_2xDy8qlsKFIa1lI', 'signature.png', '7503', 'image/png', 'Yes',\n",
       "       'Yes, with anonymization', 'Yes', 'Amritansh Kwatra',\n",
       "       'F_5nkK0otCTwJaNmV', 'signature.png', '5719', 'image/png',\n",
       "       'E-Bike,E-Scooter', nan, 'Almost every day',\n",
       "       'A cell phone in a pocket or bag,Headphones with inline controls',\n",
       "       nan,\n",
       "       'Using a navigation app such as Google or Apple Maps,Controlling audio playback or track selection for music or podcasts,Communicating via text or messaging apps,Speaking on the phone',\n",
       "       nan, 'About half the time', '26', 'Man', nan, 'Not at all', 'No',\n",
       "       nan, nan, '7', '2', '3', '2', '2', '5', 'They practiced a little',\n",
       "       'No', nan, nan, '5', '5', '3', '2', '4', '4', 'first', 'third',\n",
       "       'Not at all', 'No', 'Experienced internal server error',\n",
       "       'He tried to use his nose instead of his fing', '6', '5', '3', '3',\n",
       "       '3', '2', 'third', 'second', 'Not at all', 'No', nan,\n",
       "       'He stands sideways', '4', '5', '2', '5', '5', '2', 'second',\n",
       "       'third', 'Not at all', 'No', nan, nan, '3', '4', '2', '4', '4',\n",
       "       '4', 'first', 'fourth', 'Not at all', 'No',\n",
       "       'Needed to restart sim',\n",
       "       'Different foot position from other session', '3', '3', '3', '6',\n",
       "       '3', '1', 'third', 'first', 'Not at all', 'No',\n",
       "       'Needed to restart esp32',\n",
       "       'Interesting foot position\\nLost count of the songs 2times\\n', '3',\n",
       "       '3', '2', '5', '4', '2', 'first', 'second', 'Not at all', 'No',\n",
       "       nan, 'Had difficulty', '4', '4', '3', '2', '6', '7', 'Not at all',\n",
       "       'No', 'Watch connected to the different wifi…\\n',\n",
       "       'Crashed into the park\\n', '7', '6', '3', '1', '5', '4',\n",
       "       'They practiced a little', 'No', 'Needed to restart once',\n",
       "       'He stand on one leg all the time', '4', '6', '3', '3', '5', '3',\n",
       "       'Not at all', 'No', nan, nan, '5', '4', '4', '3', '4', '4',\n",
       "       'Not at all', 'No', nan, nan, '5', '5', '3', '4', '5', '3',\n",
       "       'Not at all', 'No', nan,\n",
       "       'He chanced his foot position and face to the side way', '3', '2',\n",
       "       '3', '6', '2', '1', nan, nan, nan, nan, nan, nan, 'Watch',\n",
       "       'Button', nan, '7045', 'N Back', 'Phone'], dtype=object)"
      ]
     },
     "execution_count": 107,
     "metadata": {},
     "output_type": "execute_result"
    }
   ],
   "source": [
    "qual_results.iloc[9,:].values"
   ]
  },
  {
   "cell_type": "code",
   "execution_count": null,
   "metadata": {},
   "outputs": [],
   "source": []
  },
  {
   "cell_type": "code",
   "execution_count": 108,
   "metadata": {},
   "outputs": [],
   "source": [
    "col_names = qual_results.iloc[0,:]"
   ]
  },
  {
   "cell_type": "code",
   "execution_count": 109,
   "metadata": {},
   "outputs": [],
   "source": [
    "qual_results = qual_results.iloc[2:, :]"
   ]
  },
  {
   "cell_type": "code",
   "execution_count": 110,
   "metadata": {},
   "outputs": [
    {
     "data": {
      "text/html": [
       "<div>\n",
       "<style scoped>\n",
       "    .dataframe tbody tr th:only-of-type {\n",
       "        vertical-align: middle;\n",
       "    }\n",
       "\n",
       "    .dataframe tbody tr th {\n",
       "        vertical-align: top;\n",
       "    }\n",
       "\n",
       "    .dataframe thead th {\n",
       "        text-align: right;\n",
       "    }\n",
       "</style>\n",
       "<table border=\"1\" class=\"dataframe\">\n",
       "  <thead>\n",
       "    <tr style=\"text-align: right;\">\n",
       "      <th></th>\n",
       "      <th>Q35_1</th>\n",
       "      <th>Q35_2</th>\n",
       "      <th>Q35_3</th>\n",
       "      <th>Q35_4</th>\n",
       "      <th>Q35_5</th>\n",
       "      <th>Q35_6</th>\n",
       "    </tr>\n",
       "  </thead>\n",
       "  <tbody>\n",
       "    <tr>\n",
       "      <th>5</th>\n",
       "      <td>1</td>\n",
       "      <td>4</td>\n",
       "      <td>6</td>\n",
       "      <td>5</td>\n",
       "      <td>3</td>\n",
       "      <td>2</td>\n",
       "    </tr>\n",
       "    <tr>\n",
       "      <th>6</th>\n",
       "      <td>2</td>\n",
       "      <td>5</td>\n",
       "      <td>6</td>\n",
       "      <td>3</td>\n",
       "      <td>4</td>\n",
       "      <td>1</td>\n",
       "    </tr>\n",
       "    <tr>\n",
       "      <th>7</th>\n",
       "      <td>1</td>\n",
       "      <td>5</td>\n",
       "      <td>6</td>\n",
       "      <td>4</td>\n",
       "      <td>3</td>\n",
       "      <td>2</td>\n",
       "    </tr>\n",
       "    <tr>\n",
       "      <th>8</th>\n",
       "      <td>2</td>\n",
       "      <td>5</td>\n",
       "      <td>6</td>\n",
       "      <td>3</td>\n",
       "      <td>4</td>\n",
       "      <td>1</td>\n",
       "    </tr>\n",
       "    <tr>\n",
       "      <th>10</th>\n",
       "      <td>1</td>\n",
       "      <td>3</td>\n",
       "      <td>6</td>\n",
       "      <td>4</td>\n",
       "      <td>5</td>\n",
       "      <td>2</td>\n",
       "    </tr>\n",
       "    <tr>\n",
       "      <th>16</th>\n",
       "      <td>1</td>\n",
       "      <td>5</td>\n",
       "      <td>6</td>\n",
       "      <td>4</td>\n",
       "      <td>3</td>\n",
       "      <td>2</td>\n",
       "    </tr>\n",
       "    <tr>\n",
       "      <th>17</th>\n",
       "      <td>3</td>\n",
       "      <td>4</td>\n",
       "      <td>5</td>\n",
       "      <td>6</td>\n",
       "      <td>2</td>\n",
       "      <td>1</td>\n",
       "    </tr>\n",
       "    <tr>\n",
       "      <th>19</th>\n",
       "      <td>2</td>\n",
       "      <td>4</td>\n",
       "      <td>5</td>\n",
       "      <td>6</td>\n",
       "      <td>1</td>\n",
       "      <td>3</td>\n",
       "    </tr>\n",
       "    <tr>\n",
       "      <th>21</th>\n",
       "      <td>1</td>\n",
       "      <td>5</td>\n",
       "      <td>6</td>\n",
       "      <td>3</td>\n",
       "      <td>4</td>\n",
       "      <td>2</td>\n",
       "    </tr>\n",
       "    <tr>\n",
       "      <th>22</th>\n",
       "      <td>1</td>\n",
       "      <td>5</td>\n",
       "      <td>6</td>\n",
       "      <td>4</td>\n",
       "      <td>3</td>\n",
       "      <td>2</td>\n",
       "    </tr>\n",
       "    <tr>\n",
       "      <th>23</th>\n",
       "      <td>3</td>\n",
       "      <td>6</td>\n",
       "      <td>5</td>\n",
       "      <td>4</td>\n",
       "      <td>2</td>\n",
       "      <td>1</td>\n",
       "    </tr>\n",
       "    <tr>\n",
       "      <th>25</th>\n",
       "      <td>2</td>\n",
       "      <td>5</td>\n",
       "      <td>6</td>\n",
       "      <td>4</td>\n",
       "      <td>1</td>\n",
       "      <td>3</td>\n",
       "    </tr>\n",
       "    <tr>\n",
       "      <th>26</th>\n",
       "      <td>3</td>\n",
       "      <td>5</td>\n",
       "      <td>6</td>\n",
       "      <td>4</td>\n",
       "      <td>2</td>\n",
       "      <td>1</td>\n",
       "    </tr>\n",
       "    <tr>\n",
       "      <th>27</th>\n",
       "      <td>3</td>\n",
       "      <td>5</td>\n",
       "      <td>6</td>\n",
       "      <td>4</td>\n",
       "      <td>2</td>\n",
       "      <td>1</td>\n",
       "    </tr>\n",
       "    <tr>\n",
       "      <th>28</th>\n",
       "      <td>3</td>\n",
       "      <td>4</td>\n",
       "      <td>6</td>\n",
       "      <td>5</td>\n",
       "      <td>2</td>\n",
       "      <td>1</td>\n",
       "    </tr>\n",
       "    <tr>\n",
       "      <th>29</th>\n",
       "      <td>2</td>\n",
       "      <td>5</td>\n",
       "      <td>6</td>\n",
       "      <td>3</td>\n",
       "      <td>4</td>\n",
       "      <td>1</td>\n",
       "    </tr>\n",
       "    <tr>\n",
       "      <th>31</th>\n",
       "      <td>3</td>\n",
       "      <td>5</td>\n",
       "      <td>6</td>\n",
       "      <td>4</td>\n",
       "      <td>2</td>\n",
       "      <td>1</td>\n",
       "    </tr>\n",
       "  </tbody>\n",
       "</table>\n",
       "</div>"
      ],
      "text/plain": [
       "    Q35_1  Q35_2  Q35_3  Q35_4  Q35_5  Q35_6\n",
       "5       1      4      6      5      3      2\n",
       "6       2      5      6      3      4      1\n",
       "7       1      5      6      4      3      2\n",
       "8       2      5      6      3      4      1\n",
       "10      1      3      6      4      5      2\n",
       "16      1      5      6      4      3      2\n",
       "17      3      4      5      6      2      1\n",
       "19      2      4      5      6      1      3\n",
       "21      1      5      6      3      4      2\n",
       "22      1      5      6      4      3      2\n",
       "23      3      6      5      4      2      1\n",
       "25      2      5      6      4      1      3\n",
       "26      3      5      6      4      2      1\n",
       "27      3      5      6      4      2      1\n",
       "28      3      4      6      5      2      1\n",
       "29      2      5      6      3      4      1\n",
       "31      3      5      6      4      2      1"
      ]
     },
     "execution_count": 110,
     "metadata": {},
     "output_type": "execute_result"
    }
   ],
   "source": [
    "# get average of every col with Q35* \n",
    "q35 = qual_results.filter(regex='Q35_*')\n",
    "q35 = q35.dropna().astype(int) \n",
    "# drop row index 2 \n",
    "# test user \n",
    "q35 = q35.drop(2)\n",
    "# Dave Dey\n",
    "q35 = q35.drop(3)\n",
    "q35 \n"
   ]
  },
  {
   "cell_type": "code",
   "execution_count": 111,
   "metadata": {},
   "outputs": [
    {
     "data": {
      "text/plain": [
       "5     Andres Felipe Arias-Russi\n",
       "6           Ethan Matthew Carty\n",
       "7                  Ruixiang Han\n",
       "8                 Tauhid Tanjim\n",
       "10                  Raymond Lin\n",
       "16                  Shannon Liu\n",
       "17               Hauke Sandhaus\n",
       "19              Daniel Enriquez\n",
       "21                   Shuo Feng \n",
       "22                    Zhuoqi Xu\n",
       "23               Sophie Lanchez\n",
       "25                  Ritik Batra\n",
       "26                  Cathy zhang\n",
       "27           Ananya Devarakonda\n",
       "28                  Leihao Fang\n",
       "29                   Joy zhang \n",
       "31               Tan Gemicioglu\n",
       "Name: Q10, dtype: object"
      ]
     },
     "execution_count": 111,
     "metadata": {},
     "output_type": "execute_result"
    }
   ],
   "source": [
    "qual_results[qual_results.index.isin(q35.index)]['Q10']"
   ]
  },
  {
   "cell_type": "code",
   "execution_count": 112,
   "metadata": {},
   "outputs": [
    {
     "data": {
      "text/plain": [
       "17"
      ]
     },
     "execution_count": 112,
     "metadata": {},
     "output_type": "execute_result"
    }
   ],
   "source": [
    "len(q35)"
   ]
  },
  {
   "cell_type": "code",
   "execution_count": 113,
   "metadata": {},
   "outputs": [],
   "source": [
    "col_names.reset_index().to_csv(\"../data/qual_col_names.csv\")"
   ]
  },
  {
   "cell_type": "code",
   "execution_count": 114,
   "metadata": {},
   "outputs": [],
   "source": [
    "interface_order = ['Voice', 'Phone','Watch', 'Foot Button', 'Throttle', 'Button']"
   ]
  },
  {
   "cell_type": "code",
   "execution_count": 115,
   "metadata": {},
   "outputs": [
    {
     "name": "stderr",
     "output_type": "stream",
     "text": [
      "/tmp/ipykernel_2106173/3042311622.py:14: UserWarning: set_ticklabels() should only be used with a fixed number of ticks, i.e. after set_ticks() or using a FixedLocator.\n",
      "  ax.set_yticklabels(interface_order, fontsize=14)\n"
     ]
    },
    {
     "data": {
      "image/png": "[encoded data removed]",
      "text/plain": [
       "<Figure size 1000x600 with 1 Axes>"
      ]
     },
     "metadata": {},
     "output_type": "display_data"
    }
   ],
   "source": [
    "import seaborn as sns\n",
    "import matplotlib.pyplot as plt\n",
    "\n",
    "# Assuming q35 is a DataFrame or Series\n",
    "fig, ax = plt.subplots(figsize=(10, 6))\n",
    "\n",
    "# Create a horizontal box plot\n",
    "sns.boxplot(data=q35, orient='h', ax=ax)\n",
    "\n",
    "# Set titles and labels\n",
    "ax.set_xlabel(r\"Average ranking. Order goes best $\\rightarrow$ worst\", fontsize=14)\n",
    "\n",
    "# Use the interface_order to set the order of the interfaces\n",
    "ax.set_yticklabels(interface_order, fontsize=14)\n",
    "\n",
    "\n",
    "\n",
    "# Improve layout\n",
    "plt.tight_layout()\n",
    "plt.savefig(\"../figures/qual_results_ranking_boxplot.png\", dpi=300)"
   ]
  },
  {
   "cell_type": "code",
   "execution_count": null,
   "metadata": {},
   "outputs": [],
   "source": [
    "# population demographics \n",
    "# age q147  \n",
    "# gender q149\n",
    "\n",
    "# experience with riding "
   ]
  },
  {
   "cell_type": "code",
   "execution_count": 155,
   "metadata": {},
   "outputs": [],
   "source": [
    "ages = qual_results[qual_results.index.isin(q35.index)]['Q147']\n",
    "ages = ages.dropna().astype(int)"
   ]
  },
  {
   "cell_type": "code",
   "execution_count": 162,
   "metadata": {},
   "outputs": [
    {
     "data": {
      "image/png": "[encoded data removed]",
      "text/plain": [
       "<Figure size 600x600 with 1 Axes>"
      ]
     },
     "metadata": {},
     "output_type": "display_data"
    }
   ],
   "source": [
    "import matplotlib.pyplot as plt\n",
    "import seaborn as sns\n",
    "import pandas as pd\n",
    "import numpy as np \n",
    "# Define the bin edges\n",
    "bins = np.arange(18, 60, 4)  # Integer bin edges (e.g., 20, 27, 34, 41, 48)\n",
    "\n",
    "# Set up the figure\n",
    "fig, ax = plt.subplots(figsize=(6, 6))\n",
    "\n",
    "# Plot histogram using seaborn\n",
    "sns.histplot(ages, bins=bins, color='peru', edgecolor='white', linewidth=2, ax=ax)\n",
    "\n",
    "# Set titles and labels\n",
    "ax.set_xlabel(r\"Age\", fontsize=14)\n",
    "ax.set_ylabel(r\"Number of participants\", fontsize=14)\n",
    "\n",
    "# Set xticks at the integer bin edges\n",
    "ax.set_xticks(bins)\n",
    "\n",
    "# Remove gridlines\n",
    "ax.grid(False)\n",
    "\n",
    "# Improve layout\n",
    "plt.tight_layout()\n",
    "\n",
    "# Save the figure\n",
    "plt.savefig(\"../figures/qual_results_age_hist.png\", dpi=300)\n",
    "\n",
    "plt.show()"
   ]
  },
  {
   "cell_type": "code",
   "execution_count": 163,
   "metadata": {},
   "outputs": [],
   "source": [
    "gender = qual_results[qual_results.index.isin(q35.index)]['Q149']\n",
    "gender = gender.dropna()"
   ]
  },
  {
   "cell_type": "code",
   "execution_count": 169,
   "metadata": {},
   "outputs": [
    {
     "data": {
      "image/png": "[encoded data removed]",
      "text/plain": [
       "<Figure size 600x600 with 1 Axes>"
      ]
     },
     "metadata": {},
     "output_type": "display_data"
    }
   ],
   "source": [
    "# Set up the figure\n",
    "fig, ax = plt.subplots(figsize=(6, 6))\n",
    "\n",
    "# Plot histogram using seaborn\n",
    "sns.countplot(gender, color='forestgreen', edgecolor='white', linewidth=2, ax=ax)\n",
    "\n",
    "# Set titles and labels\n",
    "ax.set_xlabel(\"Number of participants\")\n",
    "ax.set_ylabel(\"Choice\")\n",
    "\n",
    "# save\n",
    "plt.savefig(\"../figures/qual_results_gender_hist.png\", dpi=300, bbox_inches='tight')"
   ]
  },
  {
   "cell_type": "code",
   "execution_count": 170,
   "metadata": {},
   "outputs": [
    {
     "data": {
      "text/plain": [
       "17"
      ]
     },
     "execution_count": 170,
     "metadata": {},
     "output_type": "execute_result"
    }
   ],
   "source": [
    "# demand plots \n",
    "# use the preliinary run for each pariticapnt, without doing any NDRT as the baseline for a variant of the plot \n",
    "\n",
    "len(gender)\n"
   ]
  },
  {
   "cell_type": "code",
   "execution_count": null,
   "metadata": {},
   "outputs": [],
   "source": []
  }
 ],
 "metadata": {
  "kernelspec": {
   "display_name": "Python 3",
   "language": "python",
   "name": "python3"
  },
  "language_info": {
   "codemirror_mode": {
    "name": "ipython",
    "version": 3
   },
   "file_extension": ".py",
   "mimetype": "text/x-python",
   "name": "python",
   "nbconvert_exporter": "python",
   "pygments_lexer": "ipython3",
   "version": "3.11.9"
  }
 },
 "nbformat": 4,
 "nbformat_minor": 2
}
